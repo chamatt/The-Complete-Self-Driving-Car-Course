{
  "nbformat": 4,
  "nbformat_minor": 0,
  "metadata": {
    "kernelspec": {
      "display_name": "Python 3",
      "language": "python",
      "name": "python3"
    },
    "language_info": {
      "codemirror_mode": {
        "name": "ipython",
        "version": 3
      },
      "file_extension": ".py",
      "mimetype": "text/x-python",
      "name": "python",
      "nbconvert_exporter": "python",
      "pygments_lexer": "ipython3",
      "version": "3.7.4"
    },
    "colab": {
      "name": "MNIST.ipynb",
      "provenance": [],
      "collapsed_sections": [],
      "toc_visible": true
    }
  },
  "cells": [
    {
      "cell_type": "code",
      "metadata": {
        "id": "TSOIm137z0l-",
        "colab_type": "code",
        "colab": {}
      },
      "source": [
        "import tensorflow as tf\n",
        "from tensorflow.keras.models import Sequential\n",
        "from tensorflow.keras.layers import Dense\n",
        "from tensorflow.keras.optimizers import Adam\n",
        "from tensorflow.keras.utils import to_categorical\n",
        "from tensorflow.keras.datasets import mnist\n",
        "import numpy as np\n",
        "import matplotlib.pyplot as plt\n",
        "import random\n",
        "import cv2"
      ],
      "execution_count": 0,
      "outputs": []
    },
    {
      "cell_type": "code",
      "metadata": {
        "id": "uQJwVS5kz0mE",
        "colab_type": "code",
        "colab": {}
      },
      "source": [
        "np.random.seed(0)"
      ],
      "execution_count": 0,
      "outputs": []
    },
    {
      "cell_type": "code",
      "metadata": {
        "id": "PrJ26yKDz0mI",
        "colab_type": "code",
        "colab": {}
      },
      "source": [
        "(X_train, y_train), (X_test, y_test) = mnist.load_data()"
      ],
      "execution_count": 0,
      "outputs": []
    },
    {
      "cell_type": "code",
      "metadata": {
        "id": "E-4lHjlFz0mM",
        "colab_type": "code",
        "colab": {}
      },
      "source": [
        "assert(X_train.shape[0] == y_train.shape[0]), \"The number of images is not equal to the number of labels.\"\n",
        "assert(X_test.shape[0] == y_test.shape[0]), \"The number of images is not equal to the number of labels.\"\n",
        "assert(X_train.shape[1:] == (28,28)), \"The dimensions of the images are not 28x28\"\n",
        "assert(X_test.shape[1:] == (28,28)), \"The dimensions of the images are not 28x28\""
      ],
      "execution_count": 0,
      "outputs": []
    },
    {
      "cell_type": "code",
      "metadata": {
        "id": "Gq0b6y5fz0mQ",
        "colab_type": "code",
        "colab": {
          "base_uri": "https://localhost:8080/",
          "height": 580
        },
        "outputId": "e7ec6ba8-6cf8-4051-8866-b68c19ee690e"
      },
      "source": [
        "num_of_samples = []\n",
        "\n",
        "cols = 5\n",
        "num_classes = 10\n",
        "\n",
        "fig, axs = plt.subplots(nrows=num_classes, ncols = cols, figsize=(5, 8))\n",
        "fig.tight_layout()\n",
        "for i in range(cols):\n",
        "    for j in range(num_classes):\n",
        "        x_selected = X_train[y_train == j]\n",
        "        axs[j][i].imshow(x_selected[random.randint(0, len(x_selected - 1)), :, :], cmap=plt.get_cmap(\"gray\"))\n",
        "        axs[j][i].axis(\"off\")\n",
        "        if i == 2:\n",
        "            axs[j][i].set_title(str(j))\n",
        "            num_of_samples.append(len(x_selected))"
      ],
      "execution_count": 22,
      "outputs": [
        {
          "output_type": "display_data",
          "data": {
            "image/png": "[encoded data removed]",
            "text/plain": [
              "<Figure size 360x576 with 50 Axes>"
            ]
          },
          "metadata": {
            "tags": []
          }
        }
      ]
    },
    {
      "cell_type": "code",
      "metadata": {
        "id": "VeITsiz2z0mV",
        "colab_type": "code",
        "colab": {
          "base_uri": "https://localhost:8080/",
          "height": 329
        },
        "outputId": "f689ec5f-4ed5-45da-8bfc-d988c6a0043b"
      },
      "source": [
        "print(num_of_samples)\n",
        "plt.figure(figsize=(12, 4))\n",
        "plt.bar(range(0, num_classes), num_of_samples)\n",
        "plt.title(\"Distribution of the training dataset\")\n",
        "plt.xlabel(\"Class number\")\n",
        "plt.ylabel(\"Number of images\")"
      ],
      "execution_count": 23,
      "outputs": [
        {
          "output_type": "stream",
          "text": [
            "[5923, 6742, 5958, 6131, 5842, 5421, 5918, 6265, 5851, 5949]\n"
          ],
          "name": "stdout"
        },
        {
          "output_type": "execute_result",
          "data": {
            "text/plain": [
              "Text(0, 0.5, 'Number of images')"
            ]
          },
          "metadata": {
            "tags": []
          },
          "execution_count": 23
        },
        {
          "output_type": "display_data",
          "data": {
            "image/png": "[encoded data removed]",
            "text/plain": [
              "<Figure size 864x288 with 1 Axes>"
            ]
          },
          "metadata": {
            "tags": []
          }
        }
      ]
    },
    {
      "cell_type": "code",
      "metadata": {
        "id": "z55_KSgJz0mZ",
        "colab_type": "code",
        "colab": {}
      },
      "source": [
        "y_train = to_categorical(y_train, 10)\n",
        "y_test = to_categorical(y_test, 10)"
      ],
      "execution_count": 0,
      "outputs": []
    },
    {
      "cell_type": "markdown",
      "metadata": {
        "id": "o2t_mWBkz0md",
        "colab_type": "text"
      },
      "source": [
        "## Normalizing grayscale value"
      ]
    },
    {
      "cell_type": "code",
      "metadata": {
        "id": "aaUmz9ijz0me",
        "colab_type": "code",
        "colab": {}
      },
      "source": [
        "X_train = X_train/255 \n",
        "X_test = X_test/255"
      ],
      "execution_count": 0,
      "outputs": []
    },
    {
      "cell_type": "markdown",
      "metadata": {
        "id": "f_eZnMhEz0mi",
        "colab_type": "text"
      },
      "source": [
        "## Reshaping data to 1D"
      ]
    },
    {
      "cell_type": "code",
      "metadata": {
        "id": "S13_BGTtz0mk",
        "colab_type": "code",
        "colab": {
          "base_uri": "https://localhost:8080/",
          "height": 34
        },
        "outputId": "4d2c7b2d-f396-486e-c3b6-b389a977974a"
      },
      "source": [
        "num_pixels = 784\n",
        "X_train = X_train.reshape(X_train.shape[0], num_pixels)\n",
        "X_test = X_test.reshape(X_test.shape[0], num_pixels)\n",
        "\n",
        "print(X_train.shape, X_test.shape)"
      ],
      "execution_count": 26,
      "outputs": [
        {
          "output_type": "stream",
          "text": [
            "(60000, 784) (10000, 784)\n"
          ],
          "name": "stdout"
        }
      ]
    },
    {
      "cell_type": "code",
      "metadata": {
        "id": "D66YrrUSz0mp",
        "colab_type": "code",
        "colab": {}
      },
      "source": [
        "def create_model():\n",
        "    model = Sequential()\n",
        "    model.add(Dense(10, input_dim=num_pixels, activation='relu'))\n",
        "    model.add(Dense(30, activation='relu'))\n",
        "    model.add(Dense(10, activation='relu'))\n",
        "    model.add(Dense(num_classes, activation='softmax'))\n",
        "    model.compile(Adam(lr=0.01), loss='categorical_crossentropy', metrics=['accuracy'])\n",
        "    return model"
      ],
      "execution_count": 0,
      "outputs": []
    },
    {
      "cell_type": "code",
      "metadata": {
        "id": "zrJ8kYFWz0mt",
        "colab_type": "code",
        "colab": {
          "base_uri": "https://localhost:8080/",
          "height": 306
        },
        "outputId": "18e32519-7efe-42cb-e9d4-fa529dc77755"
      },
      "source": [
        "model = create_model()\n",
        "print(model.summary())"
      ],
      "execution_count": 28,
      "outputs": [
        {
          "output_type": "stream",
          "text": [
            "Model: \"sequential_1\"\n",
            "_________________________________________________________________\n",
            "Layer (type)                 Output Shape              Param #   \n",
            "=================================================================\n",
            "dense_4 (Dense)              (None, 10)                7850      \n",
            "_________________________________________________________________\n",
            "dense_5 (Dense)              (None, 30)                330       \n",
            "_________________________________________________________________\n",
            "dense_6 (Dense)              (None, 10)                310       \n",
            "_________________________________________________________________\n",
            "dense_7 (Dense)              (None, 10)                110       \n",
            "=================================================================\n",
            "Total params: 8,600\n",
            "Trainable params: 8,600\n",
            "Non-trainable params: 0\n",
            "_________________________________________________________________\n",
            "None\n"
          ],
          "name": "stdout"
        }
      ]
    },
    {
      "cell_type": "code",
      "metadata": {
        "id": "ZcWg5DQbz0mv",
        "colab_type": "code",
        "colab": {
          "base_uri": "https://localhost:8080/",
          "height": 374
        },
        "outputId": "17d3ba11-f816-4101-cf6e-827ba5c6571d"
      },
      "source": [
        "history = model.fit(X_train, y_train, verbose=1, validation_split=0.1, epochs=10, batch_size=200, shuffle = 1)"
      ],
      "execution_count": 29,
      "outputs": [
        {
          "output_type": "stream",
          "text": [
            "Train on 54000 samples, validate on 6000 samples\n",
            "Epoch 1/10\n",
            "54000/54000 [==============================] - 1s 22us/sample - loss: 0.6110 - acc: 0.7968 - val_loss: 0.2620 - val_acc: 0.9240\n",
            "Epoch 2/10\n",
            "54000/54000 [==============================] - 1s 20us/sample - loss: 0.3154 - acc: 0.9072 - val_loss: 0.2365 - val_acc: 0.9298\n",
            "Epoch 3/10\n",
            "54000/54000 [==============================] - 1s 19us/sample - loss: 0.2860 - acc: 0.9150 - val_loss: 0.2413 - val_acc: 0.9293\n",
            "Epoch 4/10\n",
            "54000/54000 [==============================] - 1s 19us/sample - loss: 0.2685 - acc: 0.9199 - val_loss: 0.2223 - val_acc: 0.9337\n",
            "Epoch 5/10\n",
            "54000/54000 [==============================] - 1s 20us/sample - loss: 0.2498 - acc: 0.9252 - val_loss: 0.2081 - val_acc: 0.9423\n",
            "Epoch 6/10\n",
            "54000/54000 [==============================] - 1s 20us/sample - loss: 0.2389 - acc: 0.9290 - val_loss: 0.2097 - val_acc: 0.9395\n",
            "Epoch 7/10\n",
            "54000/54000 [==============================] - 1s 21us/sample - loss: 0.2381 - acc: 0.9287 - val_loss: 0.2385 - val_acc: 0.9333\n",
            "Epoch 8/10\n",
            "54000/54000 [==============================] - 1s 20us/sample - loss: 0.2273 - acc: 0.9318 - val_loss: 0.2068 - val_acc: 0.9413\n",
            "Epoch 9/10\n",
            "54000/54000 [==============================] - 1s 20us/sample - loss: 0.2209 - acc: 0.9337 - val_loss: 0.2184 - val_acc: 0.9383\n",
            "Epoch 10/10\n",
            "54000/54000 [==============================] - 1s 20us/sample - loss: 0.2156 - acc: 0.9347 - val_loss: 0.2118 - val_acc: 0.9380\n"
          ],
          "name": "stdout"
        }
      ]
    },
    {
      "cell_type": "code",
      "metadata": {
        "id": "ii0hf46Jz0my",
        "colab_type": "code",
        "colab": {
          "base_uri": "https://localhost:8080/",
          "height": 312
        },
        "outputId": "c0291892-7fa8-4042-ae84-9493f68feffc"
      },
      "source": [
        "plt.plot(history.history['loss'])\n",
        "plt.plot(history.history['val_loss'])\n",
        "plt.legend(['loss', 'val_loss'])\n",
        "plt.title('loss')\n",
        "plt.xlabel('epoch')"
      ],
      "execution_count": 30,
      "outputs": [
        {
          "output_type": "execute_result",
          "data": {
            "text/plain": [
              "Text(0.5, 0, 'epoch')"
            ]
          },
          "metadata": {
            "tags": []
          },
          "execution_count": 30
        },
        {
          "output_type": "display_data",
          "data": {
            "image/png": "[encoded data removed]",
            "text/plain": [
              "<Figure size 432x288 with 1 Axes>"
            ]
          },
          "metadata": {
            "tags": []
          }
        }
      ]
    },
    {
      "cell_type": "code",
      "metadata": {
        "id": "yNeMqDEUz0m1",
        "colab_type": "code",
        "colab": {
          "base_uri": "https://localhost:8080/",
          "height": 312
        },
        "outputId": "bbd49640-366f-4679-a331-6bb745f14c32"
      },
      "source": [
        "plt.plot(history.history['acc'])\n",
        "plt.plot(history.history['val_acc'])\n",
        "plt.legend(['accuracy', 'val_accuracy'])\n",
        "plt.title('accuracy')\n",
        "plt.xlabel('epoch')"
      ],
      "execution_count": 31,
      "outputs": [
        {
          "output_type": "execute_result",
          "data": {
            "text/plain": [
              "Text(0.5, 0, 'epoch')"
            ]
          },
          "metadata": {
            "tags": []
          },
          "execution_count": 31
        },
        {
          "output_type": "display_data",
          "data": {
            "image/png": "[encoded data removed]",
            "text/plain": [
              "<Figure size 432x288 with 1 Axes>"
            ]
          },
          "metadata": {
            "tags": []
          }
        }
      ]
    },
    {
      "cell_type": "code",
      "metadata": {
        "id": "HIFZ4Sywz0m5",
        "colab_type": "code",
        "colab": {
          "base_uri": "https://localhost:8080/",
          "height": 68
        },
        "outputId": "2b2cb39a-07a6-4a3e-a3ea-780afcf2813e"
      },
      "source": [
        "score = model.evaluate(X_test, y_test, verbose=0)\n",
        "print(type(score))\n",
        "print(f'Test score: {score[0]}')\n",
        "print(f'Test accuracy: {score[1]}')"
      ],
      "execution_count": 32,
      "outputs": [
        {
          "output_type": "stream",
          "text": [
            "<class 'list'>\n",
            "Test score: 0.2375278910972178\n",
            "Test accuracy: 0.9276999831199646\n"
          ],
          "name": "stdout"
        }
      ]
    },
    {
      "cell_type": "code",
      "metadata": {
        "id": "CB4yTu3bz0nB",
        "colab_type": "code",
        "colab": {}
      },
      "source": [
        "import requests\n",
        "import PIL.Image\n",
        "from io import BytesIO\n",
        "\n",
        "def predict(img_url=None, drawing=None):\n",
        "  if drawing is not None:\n",
        "     img = PIL.Image.open(BytesIO(b64decode(drawing)))\n",
        "  else:\n",
        "    response = requests.get(img_url, stream=True)\n",
        "    img = PIL.Image.open(response.raw)\n",
        "  img_array = np.asarray(img)\n",
        "  resized = cv2.resize(img_array, (28,28))\n",
        "  try:\n",
        "    gray_scale = cv2.cvtColor(resized, cv2.COLOR_RGBA2GRAY)\n",
        "  except:\n",
        "    gray_scale = resized\n",
        "\n",
        "  image = cv2.bitwise_not(gray_scale)\n",
        "  plt.imshow(image, cmap=plt.get_cmap(\"gray\"))\n",
        "\n",
        "  plt.imshow(image, cmap=plt.get_cmap(\"gray\"))\n",
        "  image = image / 255\n",
        "  image = image.reshape(1, 784)\n",
        "  prediction = model.predict_classes(image)\n",
        "  print('predicted digit: ', str(prediction))"
      ],
      "execution_count": 0,
      "outputs": []
    },
    {
      "cell_type": "code",
      "metadata": {
        "id": "N6DhLe5b3OAs",
        "colab_type": "code",
        "colab": {
          "base_uri": "https://localhost:8080/",
          "height": 282
        },
        "outputId": "a98c088f-fef5-4ee6-f23f-9a9a69877cfa"
      },
      "source": [
        "predict(\"https://i.ibb.co/Bt3j6KP/download.jpg\")"
      ],
      "execution_count": 34,
      "outputs": [
        {
          "output_type": "stream",
          "text": [
            "predicted digit:  [8]\n"
          ],
          "name": "stdout"
        },
        {
          "output_type": "display_data",
          "data": {
            "image/png": "[encoded data removed]",
            "text/plain": [
              "<Figure size 432x288 with 1 Axes>"
            ]
          },
          "metadata": {
            "tags": []
          }
        }
      ]
    },
    {
      "cell_type": "code",
      "metadata": {
        "id": "mVXsyDkr49ur",
        "colab_type": "code",
        "colab": {}
      },
      "source": [
        "from IPython.display import HTML, Image\n",
        "from google.colab.output import eval_js\n",
        "from base64 import b64decode\n",
        "\n",
        "canvas_html = \"\"\"\n",
        "<canvas style=\"border: 1px solid red\" width=%d height=%d></canvas>\n",
        "<button>Finish</button>\n",
        "<script>\n",
        "var canvas = document.querySelector('canvas')\n",
        "var ctx = canvas.getContext('2d')\n",
        "ctx.fillStyle = \"white\";\n",
        "ctx.fillRect(0, 0, canvas.width, canvas.height);\n",
        "ctx.lineWidth = %d\n",
        "ctx.lineCap = \"round\";\n",
        "var button = document.querySelector('button')\n",
        "var mouse = {x: 0, y: 0}\n",
        "canvas.addEventListener('mousemove', function(e) {\n",
        "  mouse.x = e.pageX - this.offsetLeft\n",
        "  mouse.y = e.pageY - this.offsetTop\n",
        "})\n",
        "canvas.onmousedown = ()=>{\n",
        "  ctx.beginPath()\n",
        "  ctx.moveTo(mouse.x, mouse.y)\n",
        "  canvas.addEventListener('mousemove', onPaint)\n",
        "}\n",
        "canvas.onmouseup = ()=>{\n",
        "  canvas.removeEventListener('mousemove', onPaint)\n",
        "}\n",
        "var onPaint = ()=>{\n",
        "  ctx.lineTo(mouse.x, mouse.y)\n",
        "  ctx.stroke()\n",
        "}\n",
        "var data = new Promise(resolve=>{\n",
        "  button.onclick = ()=>{\n",
        "    resolve(canvas.toDataURL('image/png'))\n",
        "  }\n",
        "})\n",
        "</script>\n",
        "\"\"\"\n",
        "def draw(filename='drawing.png', w=140, h=140, line_width=30):\n",
        "  display(HTML(canvas_html % (w, h, line_width)))\n",
        "  data = eval_js(\"data\")\n",
        "  binary = b64decode(data.split(',')[1])\n",
        "  return data.split(',')[1]"
      ],
      "execution_count": 0,
      "outputs": []
    },
    {
      "cell_type": "code",
      "metadata": {
        "id": "D3ngynTF7jjw",
        "colab_type": "code",
        "colab": {
          "base_uri": "https://localhost:8080/",
          "height": 429
        },
        "outputId": "89a2fcfc-47a8-4439-e9bb-156adeca5315"
      },
      "source": [
        "drawing = draw()\n",
        "predict(drawing=drawing)"
      ],
      "execution_count": 36,
      "outputs": [
        {
          "output_type": "display_data",
          "data": {
            "text/html": [
              "\n",
              "<canvas style=\"border: 1px solid red\" width=140 height=140></canvas>\n",
              "<button>Finish</button>\n",
              "<script>\n",
              "var canvas = document.querySelector('canvas')\n",
              "var ctx = canvas.getContext('2d')\n",
              "ctx.fillStyle = \"white\";\n",
              "ctx.fillRect(0, 0, canvas.width, canvas.height);\n",
              "ctx.lineWidth = 30\n",
              "ctx.lineCap = \"round\";\n",
              "var button = document.querySelector('button')\n",
              "var mouse = {x: 0, y: 0}\n",
              "canvas.addEventListener('mousemove', function(e) {\n",
              "  mouse.x = e.pageX - this.offsetLeft\n",
              "  mouse.y = e.pageY - this.offsetTop\n",
              "})\n",
              "canvas.onmousedown = ()=>{\n",
              "  ctx.beginPath()\n",
              "  ctx.moveTo(mouse.x, mouse.y)\n",
              "  canvas.addEventListener('mousemove', onPaint)\n",
              "}\n",
              "canvas.onmouseup = ()=>{\n",
              "  canvas.removeEventListener('mousemove', onPaint)\n",
              "}\n",
              "var onPaint = ()=>{\n",
              "  ctx.lineTo(mouse.x, mouse.y)\n",
              "  ctx.stroke()\n",
              "}\n",
              "var data = new Promise(resolve=>{\n",
              "  button.onclick = ()=>{\n",
              "    resolve(canvas.toDataURL('image/png'))\n",
              "  }\n",
              "})\n",
              "</script>\n"
            ],
            "text/plain": [
              "<IPython.core.display.HTML object>"
            ]
          },
          "metadata": {
            "tags": []
          }
        },
        {
          "output_type": "stream",
          "text": [
            "predicted digit:  [5]\n"
          ],
          "name": "stdout"
        },
        {
          "output_type": "display_data",
          "data": {
            "image/png": "[encoded data removed]",
            "text/plain": [
              "<Figure size 432x288 with 1 Axes>"
            ]
          },
          "metadata": {
            "tags": []
          }
        }
      ]
    },
    {
      "cell_type": "code",
      "metadata": {
        "id": "zCWorl2IBE5I",
        "colab_type": "code",
        "colab": {}
      },
      "source": [
        ""
      ],
      "execution_count": 0,
      "outputs": []
    }
  ]
}