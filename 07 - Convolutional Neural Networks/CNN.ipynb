{
  "nbformat": 4,
  "nbformat_minor": 0,
  "metadata": {
    "kernelspec": {
      "name": "python3",
      "display_name": "Python 3"
    },
    "language_info": {
      "codemirror_mode": {
        "name": "ipython",
        "version": 3
      },
      "file_extension": ".py",
      "mimetype": "text/x-python",
      "name": "python",
      "nbconvert_exporter": "python",
      "pygments_lexer": "ipython3",
      "version": "3.7.4"
    },
    "colab": {
      "name": "CNN.ipynb",
      "provenance": [],
      "include_colab_link": true
    },
    "accelerator": "GPU"
  },
  "cells": [
    {
      "cell_type": "markdown",
      "metadata": {
        "id": "view-in-github",
        "colab_type": "text"
      },
      "source": [
        "<a href=\"https://colab.research.google.com/github/chamatt/Computer-Vision-Course/blob/master/07%20-%20Convolutional%20Neural%20Networks/CNN.ipynb\" target=\"_parent\"><img src=\"https://colab.research.google.com/assets/colab-badge.svg\" alt=\"Open In Colab\"/></a>"
      ]
    },
    {
      "cell_type": "code",
      "metadata": {
        "id": "c9Kh_UuWhIg7",
        "colab_type": "code",
        "outputId": "b3191e63-be70-4d1a-a2a6-ec8d50df0828",
        "colab": {
          "base_uri": "https://localhost:8080/",
          "height": 63
        }
      },
      "source": [
        "import numpy as np\n",
        "import matplotlib.pyplot as plt\n",
        "import tensorflow as tf\n",
        "from tensorflow.keras.datasets import mnist\n",
        "from tensorflow.keras.models import Sequential\n",
        "from tensorflow.keras.layers import Dense\n",
        "from tensorflow.keras.optimizers import Adam\n",
        "from tensorflow.keras.utils import to_categorical\n",
        "from tensorflow.keras.layers import Flatten\n",
        "from tensorflow.keras.layers import Conv2D\n",
        "from tensorflow.keras.layers import MaxPooling2D\n",
        "from tensorflow.keras.layers import Dropout\n",
        "import random"
      ],
      "execution_count": 1,
      "outputs": [
        {
          "output_type": "display_data",
          "data": {
            "text/html": [
              "<p style=\"color: red;\">\n",
              "The default version of TensorFlow in Colab will soon switch to TensorFlow 2.x.<br>\n",
              "We recommend you <a href=\"https://www.tensorflow.org/guide/migrate\" target=\"_blank\">upgrade</a> now \n",
              "or ensure your notebook will continue to use TensorFlow 1.x via the <code>%tensorflow_version 1.x</code> magic:\n",
              "<a href=\"https://colab.research.google.com/notebooks/tensorflow_version.ipynb\" target=\"_blank\">more info</a>.</p>\n"
            ],
            "text/plain": [
              "<IPython.core.display.HTML object>"
            ]
          },
          "metadata": {
            "tags": []
          }
        }
      ]
    },
    {
      "cell_type": "markdown",
      "metadata": {
        "id": "0J83uzdMujAu",
        "colab_type": "text"
      },
      "source": [
        "### Getting to know our data (MNIST Dataset)"
      ]
    },
    {
      "cell_type": "code",
      "metadata": {
        "id": "jXaZuF48hIhF",
        "colab_type": "code",
        "colab": {}
      },
      "source": [
        "np.random.seed(0)"
      ],
      "execution_count": 0,
      "outputs": []
    },
    {
      "cell_type": "code",
      "metadata": {
        "id": "1xsaxmblhIhJ",
        "colab_type": "code",
        "colab": {}
      },
      "source": [
        "(X_train, y_train), (X_test, y_test)= mnist.load_data()"
      ],
      "execution_count": 0,
      "outputs": []
    },
    {
      "cell_type": "code",
      "metadata": {
        "id": "BW2hBEwChIhN",
        "colab_type": "code",
        "outputId": "73b04af8-1c71-4269-d228-5a4945199d30",
        "colab": {
          "base_uri": "https://localhost:8080/",
          "height": 0
        }
      },
      "source": [
        "print(X_train.shape)\n",
        "print(X_test.shape)"
      ],
      "execution_count": 4,
      "outputs": [
        {
          "output_type": "stream",
          "text": [
            "(60000, 28, 28)\n",
            "(10000, 28, 28)\n"
          ],
          "name": "stdout"
        }
      ]
    },
    {
      "cell_type": "code",
      "metadata": {
        "id": "407AgUothIhU",
        "colab_type": "code",
        "colab": {}
      },
      "source": [
        "assert(X_train.shape[0] == y_train.shape[0]), \"The number of images is not equal to the number of labels.\"\n",
        "assert(X_train.shape[1:] == (28,28)), \"The dimensions of the images are not 28 x 28.\"\n",
        "assert(X_test.shape[0] == y_test.shape[0]), \"The number of images is not equal to the number of labels.\"\n",
        "assert(X_test.shape[1:] == (28,28)), \"The dimensions of the images are not 28 x 28.\""
      ],
      "execution_count": 0,
      "outputs": []
    },
    {
      "cell_type": "code",
      "metadata": {
        "id": "JT8_awvghIhY",
        "colab_type": "code",
        "outputId": "e6e5a902-ae6e-49b5-b6c0-8a86e3eefaa0",
        "colab": {
          "base_uri": "https://localhost:8080/",
          "height": 0
        }
      },
      "source": [
        "num_of_samples=[]\n",
        "cols = 5\n",
        "num_classes = 10\n",
        "\n",
        "fig, axs = plt.subplots(nrows=num_classes, ncols=cols, figsize=(5,10))\n",
        "fig.tight_layout()\n",
        "\n",
        "for i in range(cols):\n",
        "    for j in range(num_classes):\n",
        "      x_selected = X_train[y_train == j]\n",
        "      axs[j][i].imshow(x_selected[random.randint(0,(len(x_selected) - 1)), :, :], cmap=plt.get_cmap('gray'))\n",
        "      axs[j][i].axis(\"off\")\n",
        "      if i == 2:\n",
        "        axs[j][i].set_title(str(j))\n",
        "        num_of_samples.append(len(x_selected))\n"
      ],
      "execution_count": 6,
      "outputs": [
        {
          "output_type": "display_data",
          "data": {
            "image/png": "[encoded data removed]",
            "text/plain": [
              "<Figure size 360x720 with 50 Axes>"
            ]
          },
          "metadata": {
            "tags": []
          }
        }
      ]
    },
    {
      "cell_type": "code",
      "metadata": {
        "id": "Rfe9kGtghIhe",
        "colab_type": "code",
        "outputId": "534af896-2f89-42a8-aa49-90bc03fd0b11",
        "colab": {
          "base_uri": "https://localhost:8080/",
          "height": 0
        }
      },
      "source": [
        "print(num_of_samples)\n",
        "plt.figure(figsize=(12, 4))\n",
        "plt.bar(range(0, num_classes), num_of_samples)\n",
        "plt.title(\"Distribution of the train dataset\")\n",
        "plt.xlabel(\"Class number\")\n",
        "plt.ylabel(\"Number of images\")\n",
        "plt.show()"
      ],
      "execution_count": 7,
      "outputs": [
        {
          "output_type": "stream",
          "text": [
            "[5923, 6742, 5958, 6131, 5842, 5421, 5918, 6265, 5851, 5949]\n"
          ],
          "name": "stdout"
        },
        {
          "output_type": "display_data",
          "data": {
            "image/png": "[encoded data removed]",
            "text/plain": [
              "<Figure size 864x288 with 1 Axes>"
            ]
          },
          "metadata": {
            "tags": []
          }
        }
      ]
    },
    {
      "cell_type": "code",
      "metadata": {
        "id": "zPJDLApohIhj",
        "colab_type": "code",
        "colab": {}
      },
      "source": [
        "X_train = X_train.reshape(60000, 28, 28, 1)\n",
        "X_test = X_test.reshape(10000, 28, 28, 1)"
      ],
      "execution_count": 0,
      "outputs": []
    },
    {
      "cell_type": "code",
      "metadata": {
        "id": "Qdraq_t8hIho",
        "colab_type": "code",
        "colab": {}
      },
      "source": [
        "y_train = to_categorical(y_train, 10)\n",
        "y_test = to_categorical(y_test, 10)"
      ],
      "execution_count": 0,
      "outputs": []
    },
    {
      "cell_type": "code",
      "metadata": {
        "id": "jdWgGd4fhIht",
        "colab_type": "code",
        "colab": {}
      },
      "source": [
        "X_train = X_train/255\n",
        "X_test = X_test/255"
      ],
      "execution_count": 0,
      "outputs": []
    },
    {
      "cell_type": "markdown",
      "metadata": {
        "id": "LZaRRteRsRNK",
        "colab_type": "text"
      },
      "source": [
        "### Defining a convolutional network model using the LeNet Architecture\n",
        "  It consists of the following layers:\n",
        "1.   Input Layer \n",
        "2.   Conv2D (30 layers, 5x5 kernels, relu activation function)\n",
        "3.   Pooling layer (Max of 2x2 window)\n",
        "4.   Conv2D (15 layers, 3x3 kernels, relu activation function)\n",
        "5.   Pooling layer (Max of 2x2 window)\n",
        "6.   Dense Fully Connected Layer (500 perceptrons, relu activation function)\n",
        "7.   Output Layer (10 categories, softmax)"
      ]
    },
    {
      "cell_type": "code",
      "metadata": {
        "id": "O_ipKmcBhIhy",
        "colab_type": "code",
        "colab": {}
      },
      "source": [
        "def leNet_model():\n",
        "  model = Sequential()\n",
        "  model.add(Conv2D(30, (5,5), input_shape=(28,28,1), activation='relu'))\n",
        "  model.add(MaxPooling2D(pool_size=(2,2)))\n",
        "  model.add(Conv2D(15, (3,3), activation='relu'))\n",
        "  model.add(MaxPooling2D((2,2)))\n",
        "  model.add(Flatten())\n",
        "  model.add(Dense(units=500,activation='relu'))\n",
        "  model.add(Dropout(0.5))\n",
        "  model.add(Dense(units=10, activation='softmax'))\n",
        "  model.compile(Adam(lr=0.01), loss='categorical_crossentropy', metrics=['accuracy'])\n",
        "  return model"
      ],
      "execution_count": 0,
      "outputs": []
    },
    {
      "cell_type": "code",
      "metadata": {
        "id": "GBYHJRnUj21S",
        "colab_type": "code",
        "colab": {
          "base_uri": "https://localhost:8080/",
          "height": 496
        },
        "outputId": "cf9215e3-2f5d-4b82-e98a-8cfaba220a69"
      },
      "source": [
        "model = leNet_model()\n",
        "model.summary()"
      ],
      "execution_count": 12,
      "outputs": [
        {
          "output_type": "stream",
          "text": [
            "WARNING:tensorflow:From /usr/local/lib/python3.6/dist-packages/tensorflow_core/python/ops/resource_variable_ops.py:1630: calling BaseResourceVariable.__init__ (from tensorflow.python.ops.resource_variable_ops) with constraint is deprecated and will be removed in a future version.\n",
            "Instructions for updating:\n",
            "If using Keras pass *_constraint arguments to layers.\n",
            "Model: \"sequential\"\n",
            "_________________________________________________________________\n",
            "Layer (type)                 Output Shape              Param #   \n",
            "=================================================================\n",
            "conv2d (Conv2D)              (None, 24, 24, 30)        780       \n",
            "_________________________________________________________________\n",
            "max_pooling2d (MaxPooling2D) (None, 12, 12, 30)        0         \n",
            "_________________________________________________________________\n",
            "conv2d_1 (Conv2D)            (None, 10, 10, 15)        4065      \n",
            "_________________________________________________________________\n",
            "max_pooling2d_1 (MaxPooling2 (None, 5, 5, 15)          0         \n",
            "_________________________________________________________________\n",
            "flatten (Flatten)            (None, 375)               0         \n",
            "_________________________________________________________________\n",
            "dense (Dense)                (None, 500)               188000    \n",
            "_________________________________________________________________\n",
            "dropout (Dropout)            (None, 500)               0         \n",
            "_________________________________________________________________\n",
            "dense_1 (Dense)              (None, 10)                5010      \n",
            "=================================================================\n",
            "Total params: 197,855\n",
            "Trainable params: 197,855\n",
            "Non-trainable params: 0\n",
            "_________________________________________________________________\n"
          ],
          "name": "stdout"
        }
      ]
    },
    {
      "cell_type": "code",
      "metadata": {
        "id": "p0SwlwWBldXp",
        "colab_type": "code",
        "colab": {
          "base_uri": "https://localhost:8080/",
          "height": 374
        },
        "outputId": "2082234e-d62e-4614-b36e-3d56f48b1798"
      },
      "source": [
        "history = model.fit(x=X_train, y=y_train, epochs=10, validation_split=0.1, batch_size=400, verbose=1, shuffle=1)"
      ],
      "execution_count": 13,
      "outputs": [
        {
          "output_type": "stream",
          "text": [
            "Train on 54000 samples, validate on 6000 samples\n",
            "Epoch 1/10\n",
            "54000/54000 [==============================] - 3s 60us/sample - loss: 0.2306 - acc: 0.9266 - val_loss: 0.0519 - val_acc: 0.9843\n",
            "Epoch 2/10\n",
            "54000/54000 [==============================] - 1s 18us/sample - loss: 0.0687 - acc: 0.9786 - val_loss: 0.0419 - val_acc: 0.9877\n",
            "Epoch 3/10\n",
            "54000/54000 [==============================] - 1s 19us/sample - loss: 0.0566 - acc: 0.9830 - val_loss: 0.0366 - val_acc: 0.9900\n",
            "Epoch 4/10\n",
            "54000/54000 [==============================] - 1s 18us/sample - loss: 0.0503 - acc: 0.9846 - val_loss: 0.0452 - val_acc: 0.9868\n",
            "Epoch 5/10\n",
            "54000/54000 [==============================] - 1s 18us/sample - loss: 0.0472 - acc: 0.9848 - val_loss: 0.0434 - val_acc: 0.9882\n",
            "Epoch 6/10\n",
            "54000/54000 [==============================] - 1s 18us/sample - loss: 0.0391 - acc: 0.9881 - val_loss: 0.0384 - val_acc: 0.9888\n",
            "Epoch 7/10\n",
            "54000/54000 [==============================] - 1s 18us/sample - loss: 0.0424 - acc: 0.9877 - val_loss: 0.0374 - val_acc: 0.9910\n",
            "Epoch 8/10\n",
            "54000/54000 [==============================] - 1s 18us/sample - loss: 0.0417 - acc: 0.9871 - val_loss: 0.0368 - val_acc: 0.9903\n",
            "Epoch 9/10\n",
            "54000/54000 [==============================] - 1s 18us/sample - loss: 0.0382 - acc: 0.9883 - val_loss: 0.0396 - val_acc: 0.9913\n",
            "Epoch 10/10\n",
            "54000/54000 [==============================] - 1s 19us/sample - loss: 0.0322 - acc: 0.9896 - val_loss: 0.0385 - val_acc: 0.9912\n"
          ],
          "name": "stdout"
        }
      ]
    },
    {
      "cell_type": "markdown",
      "metadata": {
        "id": "Cbvyv7VWsEse",
        "colab_type": "text"
      },
      "source": [
        "### Plotting Loss and Accuracy"
      ]
    },
    {
      "cell_type": "code",
      "metadata": {
        "id": "3AaupHEmo7_b",
        "colab_type": "code",
        "colab": {
          "base_uri": "https://localhost:8080/",
          "height": 312
        },
        "outputId": "029b0a89-dd15-4bc2-98b2-607eb2362f5a"
      },
      "source": [
        "plt.plot(history.history['loss'])\n",
        "plt.plot(history.history['val_loss'])\n",
        "plt.legend(['loss', 'val_loss'])\n",
        "plt.title('Loss')\n",
        "plt.xlabel('epoch')"
      ],
      "execution_count": 14,
      "outputs": [
        {
          "output_type": "execute_result",
          "data": {
            "text/plain": [
              "Text(0.5, 0, 'epoch')"
            ]
          },
          "metadata": {
            "tags": []
          },
          "execution_count": 14
        },
        {
          "output_type": "display_data",
          "data": {
            "image/png": "[encoded data removed]",
            "text/plain": [
              "<Figure size 432x288 with 1 Axes>"
            ]
          },
          "metadata": {
            "tags": []
          }
        }
      ]
    },
    {
      "cell_type": "code",
      "metadata": {
        "id": "8YLvHanhpSw3",
        "colab_type": "code",
        "colab": {
          "base_uri": "https://localhost:8080/",
          "height": 312
        },
        "outputId": "de5b4471-3bff-4ffb-e8e6-534a1f97698e"
      },
      "source": [
        "plt.plot(history.history['acc'])\n",
        "plt.plot(history.history['val_acc'])\n",
        "plt.legend(['acc', 'val_acc'])\n",
        "plt.title('Accuracy')\n",
        "plt.xlabel('epoch')"
      ],
      "execution_count": 15,
      "outputs": [
        {
          "output_type": "execute_result",
          "data": {
            "text/plain": [
              "Text(0.5, 0, 'epoch')"
            ]
          },
          "metadata": {
            "tags": []
          },
          "execution_count": 15
        },
        {
          "output_type": "display_data",
          "data": {
            "image/png": "[encoded data removed]",
            "text/plain": [
              "<Figure size 432x288 with 1 Axes>"
            ]
          },
          "metadata": {
            "tags": []
          }
        }
      ]
    },
    {
      "cell_type": "markdown",
      "metadata": {
        "id": "ueFyIu6KtshP",
        "colab_type": "text"
      },
      "source": [
        "### Testing the model on the TEST set"
      ]
    },
    {
      "cell_type": "code",
      "metadata": {
        "id": "UOn0yeeRtyVm",
        "colab_type": "code",
        "colab": {
          "base_uri": "https://localhost:8080/",
          "height": 51
        },
        "outputId": "ffaa49bb-c9a4-42e3-cdce-08e37c975268"
      },
      "source": [
        "score = model.evaluate(X_test, y_test, verbose=0)\n",
        "print(f\"Test score: {score[0] : .3f}%\")\n",
        "print(f\"Test accuracy: {score[1] : .3f}%\")"
      ],
      "execution_count": 16,
      "outputs": [
        {
          "output_type": "stream",
          "text": [
            "Test score:  0.035%\n",
            "Test accuracy:  0.990%\n"
          ],
          "name": "stdout"
        }
      ]
    },
    {
      "cell_type": "markdown",
      "metadata": {
        "id": "osjIDhhNqD-h",
        "colab_type": "text"
      },
      "source": [
        "### Auxiliary functions to get user input"
      ]
    },
    {
      "cell_type": "code",
      "metadata": {
        "id": "2zPRHZLvpUEG",
        "colab_type": "code",
        "colab": {}
      },
      "source": [
        "import requests\n",
        "import PIL.Image\n",
        "from io import BytesIO\n",
        "import cv2\n",
        "\n",
        "def predict(img_url=None, drawing=None):\n",
        "  if drawing is not None:\n",
        "     img = PIL.Image.open(BytesIO(b64decode(drawing)))\n",
        "  else:\n",
        "    response = requests.get(img_url, stream=True)\n",
        "    img = PIL.Image.open(response.raw)\n",
        "  img_array = np.asarray(img)\n",
        "  resized = cv2.resize(img_array, (28,28))\n",
        "  try:\n",
        "    gray_scale = cv2.cvtColor(resized, cv2.COLOR_RGBA2GRAY)\n",
        "  except:\n",
        "    gray_scale = resized\n",
        "\n",
        "  image = cv2.bitwise_not(gray_scale)\n",
        "\n",
        "  plt.imshow(gray_scale, cmap=plt.get_cmap(\"gray\"))\n",
        "  image = image / 255\n",
        "  image = image.reshape(1, 28, 28, 1)\n",
        "  prediction = model.predict_classes(image)\n",
        "  print('predicted digit: ', str(prediction))\n",
        "\n",
        "from IPython.display import HTML, Image\n",
        "from google.colab.output import eval_js\n",
        "from base64 import b64decode\n",
        "\n",
        "canvas_html = \"\"\"\n",
        "<canvas style=\"border: 1px solid red\" width=%d height=%d></canvas>\n",
        "<button>Finish</button>\n",
        "<script>\n",
        "var canvas = document.querySelector('canvas')\n",
        "var ctx = canvas.getContext('2d')\n",
        "ctx.fillStyle = \"white\";\n",
        "ctx.fillRect(0, 0, canvas.width, canvas.height);\n",
        "ctx.lineWidth = %d\n",
        "ctx.lineCap = \"round\";\n",
        "var button = document.querySelector('button')\n",
        "var mouse = {x: 0, y: 0}\n",
        "canvas.addEventListener('mousemove', function(e) {\n",
        "  mouse.x = e.pageX - this.offsetLeft\n",
        "  mouse.y = e.pageY - this.offsetTop\n",
        "})\n",
        "canvas.onmousedown = ()=>{\n",
        "  ctx.beginPath()\n",
        "  ctx.moveTo(mouse.x, mouse.y)\n",
        "  canvas.addEventListener('mousemove', onPaint)\n",
        "}\n",
        "canvas.onmouseup = ()=>{\n",
        "  canvas.removeEventListener('mousemove', onPaint)\n",
        "}\n",
        "var onPaint = ()=>{\n",
        "  ctx.lineTo(mouse.x, mouse.y)\n",
        "  ctx.stroke()\n",
        "}\n",
        "var data = new Promise(resolve=>{\n",
        "  button.onclick = ()=>{\n",
        "    resolve(canvas.toDataURL('image/png'))\n",
        "  }\n",
        "})\n",
        "</script>\n",
        "\"\"\"\n",
        "def draw(filename='drawing.png', w=140, h=140, line_width=30):\n",
        "  display(HTML(canvas_html % (w, h, line_width)))\n",
        "  data = eval_js(\"data\")\n",
        "  binary = b64decode(data.split(',')[1])\n",
        "  return data.split(',')[1]"
      ],
      "execution_count": 0,
      "outputs": []
    },
    {
      "cell_type": "markdown",
      "metadata": {
        "id": "-6VDYOf5qoO9",
        "colab_type": "text"
      },
      "source": [
        "### Predicting using user input"
      ]
    },
    {
      "cell_type": "code",
      "metadata": {
        "id": "8c5zFsTVqnQg",
        "colab_type": "code",
        "colab": {
          "base_uri": "https://localhost:8080/",
          "height": 429
        },
        "outputId": "a60f3bdd-c6bd-48af-fdc4-cb72dbdc2f00"
      },
      "source": [
        "drawing = draw()\n",
        "predict(drawing=drawing)"
      ],
      "execution_count": 18,
      "outputs": [
        {
          "output_type": "display_data",
          "data": {
            "text/html": [
              "\n",
              "<canvas style=\"border: 1px solid red\" width=140 height=140></canvas>\n",
              "<button>Finish</button>\n",
              "<script>\n",
              "var canvas = document.querySelector('canvas')\n",
              "var ctx = canvas.getContext('2d')\n",
              "ctx.fillStyle = \"white\";\n",
              "ctx.fillRect(0, 0, canvas.width, canvas.height);\n",
              "ctx.lineWidth = 30\n",
              "ctx.lineCap = \"round\";\n",
              "var button = document.querySelector('button')\n",
              "var mouse = {x: 0, y: 0}\n",
              "canvas.addEventListener('mousemove', function(e) {\n",
              "  mouse.x = e.pageX - this.offsetLeft\n",
              "  mouse.y = e.pageY - this.offsetTop\n",
              "})\n",
              "canvas.onmousedown = ()=>{\n",
              "  ctx.beginPath()\n",
              "  ctx.moveTo(mouse.x, mouse.y)\n",
              "  canvas.addEventListener('mousemove', onPaint)\n",
              "}\n",
              "canvas.onmouseup = ()=>{\n",
              "  canvas.removeEventListener('mousemove', onPaint)\n",
              "}\n",
              "var onPaint = ()=>{\n",
              "  ctx.lineTo(mouse.x, mouse.y)\n",
              "  ctx.stroke()\n",
              "}\n",
              "var data = new Promise(resolve=>{\n",
              "  button.onclick = ()=>{\n",
              "    resolve(canvas.toDataURL('image/png'))\n",
              "  }\n",
              "})\n",
              "</script>\n"
            ],
            "text/plain": [
              "<IPython.core.display.HTML object>"
            ]
          },
          "metadata": {
            "tags": []
          }
        },
        {
          "output_type": "stream",
          "text": [
            "predicted digit:  [3]\n"
          ],
          "name": "stdout"
        },
        {
          "output_type": "display_data",
          "data": {
            "image/png": "[encoded data removed]",
            "text/plain": [
              "<Figure size 432x288 with 1 Axes>"
            ]
          },
          "metadata": {
            "tags": []
          }
        }
      ]
    },
    {
      "cell_type": "code",
      "metadata": {
        "id": "RssG9QFBqte_",
        "colab_type": "code",
        "colab": {}
      },
      "source": [
        ""
      ],
      "execution_count": 0,
      "outputs": []
    }
  ]
}